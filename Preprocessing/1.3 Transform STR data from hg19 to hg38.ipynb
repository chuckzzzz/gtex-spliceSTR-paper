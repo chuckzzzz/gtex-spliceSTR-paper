{
 "cells": [
  {
   "cell_type": "code",
   "execution_count": null,
   "metadata": {},
   "outputs": [],
   "source": [
    "#GTEX v8 uses hg38, need to transform hg19 bed file into hg38"
   ]
  },
  {
   "cell_type": "code",
   "execution_count": null,
   "metadata": {},
   "outputs": [],
   "source": [
    "# extract the chromosome, start, end from vcf file\n",
    "! awk '! /\\#/' hg19_STR.vcf | head -n 3 | cut -f 1,2,8 | cut -d ';' -f 1,3 | sed 's/=/\\t/g' | sed 's/^/chr/' | awk 'print $1, $2, $5}' > hg19.bed"
   ]
  },
  {
   "cell_type": "code",
   "execution_count": null,
   "metadata": {},
   "outputs": [],
   "source": [
    "# Use liftOver to transform hg19 annotation to hg38 annotation\n",
    "# All successfully mapped\n",
    "! liftOver hg19.bed /storage/resources/dbase/human/GRCh38/hg19ToHg38.over.chain.gz hg38.bed hg19ToHg38.unmapped.bed"
   ]
  }
 ],
 "metadata": {
  "kernelspec": {
   "display_name": "Python 3",
   "language": "python",
   "name": "python3"
  },
  "language_info": {
   "codemirror_mode": {
    "name": "ipython",
    "version": 3
   },
   "file_extension": ".py",
   "mimetype": "text/x-python",
   "name": "python",
   "nbconvert_exporter": "python",
   "pygments_lexer": "ipython3",
   "version": "3.6.8"
  }
 },
 "nbformat": 4,
 "nbformat_minor": 4
}

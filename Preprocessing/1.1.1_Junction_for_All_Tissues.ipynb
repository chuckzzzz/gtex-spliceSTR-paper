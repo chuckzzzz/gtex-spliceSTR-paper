{
 "cells": [
  {
   "cell_type": "code",
   "execution_count": 24,
   "metadata": {},
   "outputs": [],
   "source": [
    "# import sys\n",
    "# sys.path.append(\"/storage/ydong/anaconda3/lib/python3.8/site-packages\")\n",
    "# sys.path.append(\"/usr/local/lib64/python3.6/site-packages\")\n",
    "\n",
    "import pandas as pd\n",
    "import numpy as np\n",
    "from os import listdir\n",
    "from os.path import isfile, join\n",
    "import os\n",
    "import pyarrow.parquet as pq\n",
    "import csv\n",
    "import sys\n",
    "import time"
   ]
  },
  {
   "cell_type": "code",
   "execution_count": 25,
   "metadata": {},
   "outputs": [],
   "source": [
    "infos = pd.read_csv(\"/storage/ydong/data/gtexRNA/GTEx_Analysis_v8_Annotations_SampleAttributesDS.txt\",sep = \"\\t\",usecols = [\"SAMPID\",\"SMTSD\"])"
   ]
  },
  {
   "cell_type": "code",
   "execution_count": 26,
   "metadata": {},
   "outputs": [],
   "source": [
    "idxList = []\n",
    "tisList = list(infos[\"SMTSD\"])\n",
    "for i in range(len(tisList)):\n",
    "    tisList[i] = tisList[i].replace(\" \",\"\")\n",
    "    tisList[i] = tisList[i].replace(\"(\",\"_\")\n",
    "    tisList[i] = tisList[i].replace(\")\",\"\")\n",
    "# tisTypeList = list(set(tisList))"
   ]
  },
  {
   "cell_type": "code",
   "execution_count": null,
   "metadata": {},
   "outputs": [],
   "source": []
  },
  {
   "cell_type": "code",
   "execution_count": 28,
   "metadata": {},
   "outputs": [],
   "source": [
    "count = 0\n",
    "for i in tisList:\n",
    "    if i == \"Lung\":\n",
    "        count +=1"
   ]
  },
  {
   "cell_type": "code",
   "execution_count": 29,
   "metadata": {},
   "outputs": [
    {
     "data": {
      "text/plain": [
       "867"
      ]
     },
     "execution_count": 29,
     "metadata": {},
     "output_type": "execute_result"
    }
   ],
   "source": [
    "count"
   ]
  },
  {
   "cell_type": "code",
   "execution_count": 4,
   "metadata": {},
   "outputs": [],
   "source": [
    "OUT_PRE = '/gymreklab-tscc/ydong/data/allTis/'\n",
    "IN_DIR = '/storage/ydong/data/gtexRNA/'\n",
    "\n",
    "#Read in gtex files\n",
    "files = [f for f in listdir(IN_DIR) if isfile(join(IN_DIR, f)) and f.split('.')[-1] == 'gct']\n"
   ]
  },
  {
   "cell_type": "code",
   "execution_count": 5,
   "metadata": {},
   "outputs": [],
   "source": [
    "try:\n",
    "    generated = pd.read_csv(\"junction_Parsed.txt\",header = None)\n",
    "except:\n",
    "    generated = []"
   ]
  },
  {
   "cell_type": "code",
   "execution_count": 6,
   "metadata": {},
   "outputs": [],
   "source": [
    "# trim pre-existing folders\n",
    "# listdir(\"/gymreklab-tscc/ydong/data/allTis/\")"
   ]
  },
  {
   "cell_type": "markdown",
   "metadata": {},
   "source": [
    "# After preliminary analysis, now we generate tissue specific datasets"
   ]
  },
  {
   "cell_type": "code",
   "execution_count": 7,
   "metadata": {},
   "outputs": [],
   "source": [
    "# # # create directories\n",
    "# import os\n",
    "# for currTis in tisTypeList:\n",
    "#     OUT_DIR = OUT_PRE + currTis+\"/\"\n",
    "# #     os.mkdir(OUT_DIR) \n",
    "#     try:\n",
    "#         os.mkdir(OUT_DIR+\"PSI/\")    \n",
    "#     except:\n",
    "#         print(OUT_DIR)\n",
    "#     try:\n",
    "#         os.mkdir(OUT_DIR+\"result/\")    \n",
    "#     except:\n",
    "#         print(OUT_DIR)\n",
    "        \n"
   ]
  },
  {
   "cell_type": "code",
   "execution_count": 23,
   "metadata": {},
   "outputs": [],
   "source": [
    "# deal with naming convention faults made in previous steps\n",
    "tisDir = os.listdir(OUT_PRE)\n",
    "for i in tisDir:\n",
    "    if \"(\" in i:\n",
    "        newName = i.replace(\"(\",\"_\")\n",
    "        newName = newName.replace(\")\",\"\")\n",
    "        print(newName)\n",
    "        os.rename(OUT_PRE + i,OUT_PRE + newName)"
   ]
  },
  {
   "cell_type": "code",
   "execution_count": 9,
   "metadata": {},
   "outputs": [],
   "source": [
    "currTis = sys.argv[1]"
   ]
  },
  {
   "cell_type": "code",
   "execution_count": 7,
   "metadata": {},
   "outputs": [],
   "source": [
    "# get the index in junction file\n",
    "# record it in \"samples\"\n",
    "f = open(IN_DIR + files[1], \"r\")\n",
    "reader = csv.reader(f, delimiter=\"\\t\")\n",
    "counter = 0\n",
    "for row in reader:\n",
    "    counter +=1\n",
    "    if counter < 3:\n",
    "        continue\n",
    "    if counter == 3:\n",
    "        samples = row\n",
    "        f.close()\n",
    "        break\n",
    "        "
   ]
  },
  {
   "cell_type": "code",
   "execution_count": null,
   "metadata": {},
   "outputs": [],
   "source": [
    "# tissue specific parsing\n",
    "\n",
    "\n",
    "\n",
    "OUT_DIR = OUT_PRE + currTis.replace(\" \",\"\")+\"/\"\n",
    "\n",
    "\n",
    "idxList = []\n",
    "for i in range(len(infos)):\n",
    "    if ( tisList[i]== currTis ):\n",
    "        idxList.append(i)\n",
    "currInfo = infos.iloc[idxList,:]\n",
    "currInfo = currInfo.set_index(\"SAMPID\")\n",
    "IDList = list(currInfo.index)\n",
    "\n",
    "currTisIdx = [0,1]\n",
    "toRemove = []\n",
    "for i in IDList:\n",
    "    if i in samples:\n",
    "        currTisIdx.append(samples.index(i))\n",
    "    else:\n",
    "        toRemove.append(i)\n",
    "\n",
    "for i in toRemove:\n",
    "    IDList.remove(i)\n",
    "\n",
    "\n",
    "\n",
    "# read in the file row by row to avoid loading entire data into memory\n",
    "f = open(IN_DIR + files[1], \"r\")\n",
    "w = open(OUT_DIR + files[1][:-4] + \"_Parsed.csv\",\"w\")\n",
    "junctionList = []\n",
    "reader = csv.reader(f, delimiter=\"\\t\")\n",
    "writer = csv.writer(w,delimiter=\"\\t\")\n",
    "counter = 0\n",
    "for row in reader:\n",
    "    counter +=1\n",
    "    if counter == 3:\n",
    "        writer.writerow(IDList)\n",
    "        continue\n",
    "    if counter < 3:\n",
    "        continue\n",
    "\n",
    "\n",
    "    writer.writerow(np.array(row)[currTisIdx])\n",
    "\n",
    "\n",
    "f.close()\n",
    "w.close()"
   ]
  }
 ],
 "metadata": {
  "kernelspec": {
   "display_name": "Python 3",
   "language": "python",
   "name": "python3"
  },
  "language_info": {
   "codemirror_mode": {
    "name": "ipython",
    "version": 3
   },
   "file_extension": ".py",
   "mimetype": "text/x-python",
   "name": "python",
   "nbconvert_exporter": "python",
   "pygments_lexer": "ipython3",
   "version": "3.6.8"
  }
 },
 "nbformat": 4,
 "nbformat_minor": 4
}

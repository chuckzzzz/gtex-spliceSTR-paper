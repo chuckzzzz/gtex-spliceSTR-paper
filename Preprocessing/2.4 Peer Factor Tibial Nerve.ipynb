{
 "cells": [
  {
   "cell_type": "code",
   "execution_count": 1,
   "metadata": {},
   "outputs": [],
   "source": [
    "library(peer)"
   ]
  },
  {
   "cell_type": "code",
   "execution_count": 2,
   "metadata": {},
   "outputs": [],
   "source": [
    "PSI_df = read.csv(file = '/storage/ydong/data/chrom/tibialNerve/all_PSI_trimmed.csv')[,-1]\n",
    "# PSI_df = read.csv(file = \"/storage/ydong/data/peer/expression.csv\",header = FALSE)"
   ]
  },
  {
   "cell_type": "code",
   "execution_count": null,
   "metadata": {},
   "outputs": [],
   "source": []
  },
  {
   "cell_type": "code",
   "execution_count": 3,
   "metadata": {},
   "outputs": [
    {
     "data": {
      "text/plain": [
       "NULL"
      ]
     },
     "metadata": {},
     "output_type": "display_data"
    },
    {
     "data": {
      "text/plain": [
       "NULL"
      ]
     },
     "metadata": {},
     "output_type": "display_data"
    },
    {
     "data": {
      "text/plain": [
       "NULL"
      ]
     },
     "metadata": {},
     "output_type": "display_data"
    },
    {
     "data": {
      "text/plain": [
       "NULL"
      ]
     },
     "metadata": {},
     "output_type": "display_data"
    },
    {
     "name": "stdout",
     "output_type": "stream",
     "text": [
      "Time difference of 8.982642 mins\n"
     ]
    }
   ],
   "source": [
    "start <-Sys.time()\n",
    "model = PEER()\n",
    "PEER_setPhenoMean(model,as.matrix(PSI_df))\n",
    "PEER_setAdd_mean(model, TRUE)\n",
    "\n",
    "PEER_setNk(model,20)\n",
    "PEER_update(model)\n",
    "factors = PEER_getX(model)\n",
    "end <-Sys.time()\n",
    "print(end - start)\n",
    "write.csv(factors,\"/storage/ydong/data/chrFactors/20tibialNerve.csv\")"
   ]
  },
  {
   "cell_type": "code",
   "execution_count": null,
   "metadata": {},
   "outputs": [],
   "source": []
  }
 ],
 "metadata": {
  "kernelspec": {
   "display_name": "R",
   "language": "R",
   "name": "ir"
  },
  "language_info": {
   "codemirror_mode": "r",
   "file_extension": ".r",
   "mimetype": "text/x-r-source",
   "name": "R",
   "pygments_lexer": "r",
   "version": "3.6.0"
  }
 },
 "nbformat": 4,
 "nbformat_minor": 4
}

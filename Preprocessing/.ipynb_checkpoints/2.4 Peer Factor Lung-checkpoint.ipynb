{
 "cells": [
  {
   "cell_type": "code",
   "execution_count": 1,
   "metadata": {},
   "outputs": [],
   "source": [
    "library(peer)"
   ]
  },
  {
   "cell_type": "code",
   "execution_count": 2,
   "metadata": {},
   "outputs": [],
   "source": [
    "PSI_df = read.csv(file = '/storage/ydong/data/chrom/lung/all_PSI_trimmed.csv')[,-1]\n",
    "# PSI_df = read.csv(file = \"/storage/ydong/data/peer/expression.csv\",header = FALSE)"
   ]
  },
  {
   "cell_type": "code",
   "execution_count": 2,
   "metadata": {},
   "outputs": [],
   "source": [
    "a <- 1:19\n",
    "b <- 5\n",
    "peerRange <- a * b"
   ]
  },
  {
   "cell_type": "code",
   "execution_count": 3,
   "metadata": {},
   "outputs": [
    {
     "data": {
      "text/plain": [
       "NULL"
      ]
     },
     "metadata": {},
     "output_type": "display_data"
    },
    {
     "data": {
      "text/plain": [
       "NULL"
      ]
     },
     "metadata": {},
     "output_type": "display_data"
    },
    {
     "data": {
      "text/plain": [
       "NULL"
      ]
     },
     "metadata": {},
     "output_type": "display_data"
    },
    {
     "data": {
      "text/plain": [
       "NULL"
      ]
     },
     "metadata": {},
     "output_type": "display_data"
    },
    {
     "name": "stdout",
     "output_type": "stream",
     "text": [
      "Time difference of 11.34843 mins\n"
     ]
    }
   ],
   "source": [
    "pathPre = \"/storage/ydong/data/chrFactors/\"\n",
    "pathPost = \"lung.csv\"\n",
    "start <-Sys.time()\n",
    "model = PEER()\n",
    "PEER_setPhenoMean(model,as.matrix(PSI_df))\n",
    "PEER_setAdd_mean(model, TRUE)\n",
    "\n",
    "\n",
    "for (pr in peerRange){\n",
    "    PEER_setNk(model,20)\n",
    "    PEER_update(model)\n",
    "    factors = PEER_getX(model)\n",
    "    end <-Sys.time()\n",
    "    print(end - start)\n",
    "    path <- paste0(pathPre,pr,pathPost)\n",
    "    write.csv(factors,path)\n",
    "    cat(pr, \"done\")\n",
    "}\n",
    "\n"
   ]
  }
 ],
 "metadata": {
  "kernelspec": {
   "display_name": "R",
   "language": "R",
   "name": "ir"
  },
  "language_info": {
   "codemirror_mode": "r",
   "file_extension": ".r",
   "mimetype": "text/x-r-source",
   "name": "R",
   "pygments_lexer": "r",
   "version": "3.6.0"
  }
 },
 "nbformat": 4,
 "nbformat_minor": 4
}

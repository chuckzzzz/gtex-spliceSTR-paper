{
 "cells": [
  {
   "cell_type": "code",
   "execution_count": 1,
   "metadata": {},
   "outputs": [],
   "source": [
    "library(peer)"
   ]
  },
  {
   "cell_type": "code",
   "execution_count": null,
   "metadata": {},
   "outputs": [],
   "source": [
    "args <- commandArgs(TRUE)\n",
    "tissue <- args[1]\n"
   ]
  },
  {
   "cell_type": "code",
   "execution_count": null,
   "metadata": {},
   "outputs": [],
   "source": [
    "# psiPath <- paste(\"/gymreklab-tscc/ydong/data/allTis/\",tissue,\"/PSI/trimmed_PSI.csv\",sep = \"\")\n",
    "psiPath <- paste(\"/projects/ps-gymreklab/ydong/data/allTis/\",tissue,\"/PSI/trimmed_PSI.csv\",sep = \"\")\n",
    "\n",
    "PSI_df = read.csv(file = psiPath)[,-1]"
   ]
  },
  {
   "cell_type": "code",
   "execution_count": 6,
   "metadata": {},
   "outputs": [
    {
     "data": {
      "text/plain": [
       "NULL"
      ]
     },
     "metadata": {},
     "output_type": "display_data"
    },
    {
     "data": {
      "text/plain": [
       "NULL"
      ]
     },
     "metadata": {},
     "output_type": "display_data"
    },
    {
     "data": {
      "text/plain": [
       "NULL"
      ]
     },
     "metadata": {},
     "output_type": "display_data"
    },
    {
     "name": "stdout",
     "output_type": "stream",
     "text": [
      "Time difference of 31.02284 secs\n"
     ]
    }
   ],
   "source": [
    "start <-Sys.time()\n",
    "model = PEER()\n",
    "PEER_setPhenoMean(model,as.matrix(PSI_df))\n",
    "PEER_setAdd_mean(model, TRUE)\n",
    "\n",
    "PEER_setNk(model,20)\n",
    "PEER_update(model)\n",
    "factors = PEER_getX(model)\n",
    "end <-Sys.time()\n",
    "print(end - start)\n",
    "\n",
    "# factorPath <- paste(\"/gymreklab-tscc/ydong/data/allTis/\",tissue,\"/peerFactor.csv\",sep = \"\")\n",
    "factorPath <- paste(\"/projects/ps-gymreklab/ydong/data/allTis/\",tissue,\"/peerFactor.csv\",sep = \"\")\n",
    "\n",
    "write.csv(factors,factorPath)"
   ]
  }
 ],
 "metadata": {
  "kernelspec": {
   "display_name": "R",
   "language": "R",
   "name": "ir"
  },
  "language_info": {
   "codemirror_mode": "r",
   "file_extension": ".r",
   "mimetype": "text/x-r-source",
   "name": "R",
   "pygments_lexer": "r",
   "version": "3.6.0"
  }
 },
 "nbformat": 4,
 "nbformat_minor": 4
}

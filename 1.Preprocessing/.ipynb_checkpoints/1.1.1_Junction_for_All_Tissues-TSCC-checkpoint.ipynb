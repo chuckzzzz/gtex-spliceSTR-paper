{
 "cells": [
  {
   "cell_type": "markdown",
   "metadata": {},
   "source": [
    "# This is the script for parsing junction files from GTEx junction data"
   ]
  },
  {
   "cell_type": "code",
   "execution_count": 2,
   "metadata": {},
   "outputs": [],
   "source": [
    "import pandas as pd\n",
    "import numpy as np\n",
    "from os import listdir\n",
    "from os.path import isfile, join\n",
    "import os\n",
    "import pyarrow.parquet as pq\n",
    "import csv\n",
    "import sys\n",
    "import time"
   ]
  },
  {
   "cell_type": "code",
   "execution_count": 2,
   "metadata": {},
   "outputs": [],
   "source": [
    "# load sample attributes to get tissue type of each sample\n",
    "infos = pd.read_csv(\"/projects/ps-gymreklab/ydong/data/gtexRNA/GTEx_Analysis_v8_Annotations_SampleAttributesDS.txt\",sep = \"\\t\",usecols = [\"SAMPID\",\"SMTSD\"])"
   ]
  },
  {
   "cell_type": "code",
   "execution_count": 4,
   "metadata": {},
   "outputs": [],
   "source": [
    "OUT_PRE = '/projects/ps-gymreklab/ydong/data/allTis/'\n",
    "IN_DIR = '/projects/ps-gymreklab/ydong/data/gtexRNA/'\n",
    "\n",
    "#Read in gtex files\n",
    "junctionFile = \"GTEx_Analysis_2017-06-05_v8_STARv2.5.3a_junctions.gct\""
   ]
  },
  {
   "cell_type": "code",
   "execution_count": 14,
   "metadata": {},
   "outputs": [],
   "source": [
    "# trim tissue names\n",
    "idxList = []\n",
    "tisList = list(infos[\"SMTSD\"])\n",
    "for i in range(len(tisList)):\n",
    "    tisList[i] = tisList[i].replace(\" \",\"\")\n",
    "    tisList[i] = tisList[i].replace(\"(\",\"_\")\n",
    "    tisList[i] = tisList[i].replace(\")\",\"\")\n",
    "# tisTypeList = list(set(tisList))"
   ]
  },
  {
   "cell_type": "code",
   "execution_count": 5,
   "metadata": {},
   "outputs": [],
   "source": [
    "# the tissue passed in through \n",
    "currTis = sys.argv[1].split(\"/\")[-1]"
   ]
  },
  {
   "cell_type": "code",
   "execution_count": null,
   "metadata": {},
   "outputs": [],
   "source": [
    "# # # create directories\n",
    "# import os\n",
    "# for currTis in tisTypeList:\n",
    "#     OUT_DIR = OUT_PRE + currTis+\"/\"\n",
    "#     os.mkdir(OUT_DIR) \n",
    "#     try:\n",
    "#         os.mkdir(OUT_DIR+\"PSI/\")    \n",
    "#     except:\n",
    "#         print(OUT_DIR)\n",
    "#     try:\n",
    "#         os.mkdir(OUT_DIR+\"result/\")    \n",
    "#     except:\n",
    "#         print(OUT_DIR)\n",
    "        \n"
   ]
  },
  {
   "cell_type": "code",
   "execution_count": 7,
   "metadata": {
    "scrolled": true
   },
   "outputs": [
    {
     "data": {
      "text/plain": [
       "['Brain-Substantianigra',\n",
       " 'Spleen',\n",
       " 'Brain-Cortex',\n",
       " 'Adipose-Visceral_Omentum',\n",
       " 'Cervix-Endocervix',\n",
       " 'Brain-Hippocampus',\n",
       " 'Thyroid',\n",
       " 'Kidney-Cortex',\n",
       " 'Artery-Coronary',\n",
       " 'Prostate',\n",
       " 'Artery-Tibial',\n",
       " 'Esophagus-Muscularis',\n",
       " 'Testis',\n",
       " 'Ovary',\n",
       " 'Vagina',\n",
       " 'Esophagus-Mucosa',\n",
       " 'Brain-FrontalCortex_BA9',\n",
       " 'SmallIntestine-TerminalIleum',\n",
       " 'Brain-Spinalcord_cervicalc-1',\n",
       " 'Artery-Aorta',\n",
       " 'Stomach',\n",
       " 'Breast-MammaryTissue',\n",
       " 'Brain-Nucleusaccumbens_basalganglia',\n",
       " 'Muscle-Skeletal',\n",
       " 'Skin-NotSunExposed_Suprapubic',\n",
       " 'Heart-AtrialAppendage',\n",
       " 'Brain-Cerebellum',\n",
       " 'Skin-SunExposed_Lowerleg',\n",
       " 'Heart-LeftVentricle',\n",
       " 'Nerve-Tibial',\n",
       " 'Pancreas',\n",
       " 'Colon-Sigmoid',\n",
       " 'Brain-Putamen_basalganglia',\n",
       " 'Adipose-Subcutaneous',\n",
       " 'Colon-Transverse',\n",
       " 'Brain-Caudate_basalganglia',\n",
       " 'MinorSalivaryGland',\n",
       " 'Cervix-Ectocervix',\n",
       " 'Brain-CerebellarHemisphere',\n",
       " 'Liver',\n",
       " 'Cells-Leukemiacellline_CML',\n",
       " 'AdrenalGland',\n",
       " 'Brain-Hypothalamus',\n",
       " 'Bladder',\n",
       " 'Cells-Culturedfibroblasts',\n",
       " 'Kidney-Medulla',\n",
       " 'FallopianTube',\n",
       " 'Cells-EBV-transformedlymphocytes',\n",
       " 'Brain-Anteriorcingulatecortex_BA24',\n",
       " 'Uterus',\n",
       " 'Pituitary',\n",
       " 'Esophagus-GastroesophagealJunction',\n",
       " 'WholeBlood',\n",
       " 'Lung',\n",
       " 'Brain-Amygdala']"
      ]
     },
     "execution_count": 7,
     "metadata": {},
     "output_type": "execute_result"
    }
   ],
   "source": [
    "os.listdir(\"/gymreklab-tscc/ydong/data/allTis/\")"
   ]
  },
  {
   "cell_type": "code",
   "execution_count": 7,
   "metadata": {},
   "outputs": [],
   "source": [
    "# get the index in junction file\n",
    "# record it in \"samples\"\n",
    "f = open(IN_DIR + junctionFile, \"r\")\n",
    "reader = csv.reader(f, delimiter=\"\\t\")\n",
    "counter = 0\n",
    "for row in reader:\n",
    "    counter +=1\n",
    "    \n",
    "    # the first 3 rows are file labels and sample names\n",
    "    if counter < 3:\n",
    "        continue\n",
    "    if counter == 3:\n",
    "        samples = row\n",
    "        f.close()\n",
    "        break\n",
    "        "
   ]
  },
  {
   "cell_type": "code",
   "execution_count": null,
   "metadata": {},
   "outputs": [],
   "source": [
    "# tissue specific parsing\n",
    "OUT_DIR = OUT_PRE + currTis.replace(\" \",\"\")+\"/\"\n",
    "\n",
    "# get the index of samples within current tissue\n",
    "idxList = []\n",
    "for i in range(len(infos)):\n",
    "    if ( tisList[i]== currTis ):\n",
    "        idxList.append(i)\n",
    "currInfo = infos.iloc[idxList,:]\n",
    "currInfo = currInfo.set_index(\"SAMPID\")\n",
    "IDList = list(currInfo.index)\n",
    "\n",
    "currTisIdx = [0,1]\n",
    "toRemove = []\n",
    "for i in IDList:\n",
    "    if i in samples:\n",
    "        currTisIdx.append(samples.index(i))\n",
    "    else:\n",
    "        toRemove.append(i)\n",
    "\n",
    "for i in toRemove:\n",
    "    IDList.remove(i)\n",
    "\n",
    "\n",
    "# read in the file row by row to avoid loading entire data into memory\n",
    "f = open(IN_DIR + junctionFile, \"r\")\n",
    "w = open(OUT_DIR + junctionFile[:-4] + \"_Parsed.csv\",\"w\")\n",
    "junctionList = []\n",
    "reader = csv.reader(f, delimiter=\"\\t\")\n",
    "writer = csv.writer(w,delimiter=\"\\t\")\n",
    "counter = 0\n",
    "for row in reader:\n",
    "    counter +=1\n",
    "    if counter == 3:\n",
    "        writer.writerow(IDList)\n",
    "        continue\n",
    "    if counter < 3:\n",
    "        continue\n",
    "        \n",
    "    writer.writerow(np.array(row)[currTisIdx])\n",
    "\n",
    "f.close()\n",
    "w.close()"
   ]
  }
 ],
 "metadata": {
  "kernelspec": {
   "display_name": "Python 3",
   "language": "python",
   "name": "python3"
  },
  "language_info": {
   "codemirror_mode": {
    "name": "ipython",
    "version": 3
   },
   "file_extension": ".py",
   "mimetype": "text/x-python",
   "name": "python",
   "nbconvert_exporter": "python",
   "pygments_lexer": "ipython3",
   "version": "3.6.8"
  }
 },
 "nbformat": 4,
 "nbformat_minor": 4
}

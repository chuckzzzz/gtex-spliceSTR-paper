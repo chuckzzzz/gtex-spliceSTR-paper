{
 "cells": [
  {
   "cell_type": "markdown",
   "metadata": {},
   "source": [
    "# This is the script for generating exon expression datasets for each tissue from GTEx dataset"
   ]
  },
  {
   "cell_type": "code",
   "execution_count": 1,
   "metadata": {},
   "outputs": [],
   "source": [
    "import pandas as pd\n",
    "import numpy as np\n",
    "from os import listdir\n",
    "from os.path import isfile, join\n",
    "import pyarrow.parquet as pq\n",
    "import csv\n",
    "import time\n",
    "import os\n",
    "import pyarrow"
   ]
  },
  {
   "cell_type": "code",
   "execution_count": 2,
   "metadata": {},
   "outputs": [],
   "source": [
    "# load in the GTEx sample descriptions, for accessing corresponding tissues of each sample\n",
    "infos = pd.read_csv(\"/storage/ydong/data/gtexRNA/GTEx_Analysis_v8_Annotations_SampleAttributesDS.txt\",sep = \"\\t\",usecols = [\"SAMPID\",\"SMTSD\"])"
   ]
  },
  {
   "cell_type": "code",
   "execution_count": 3,
   "metadata": {},
   "outputs": [],
   "source": [
    "# grab list of the tissues\n",
    "idxList = []\n",
    "tisList = list(infos[\"SMTSD\"])\n",
    "tisTypeList = list(set(tisList))"
   ]
  },
  {
   "cell_type": "code",
   "execution_count": 4,
   "metadata": {},
   "outputs": [],
   "source": [
    "# set the input and output directories\n",
    "OUT_PRE = '/gymreklab-tscc/ydong/data/allTis/'\n",
    "IN_DIR = '/storage/ydong/data/gtexRNA/'\n",
    "\n",
    "#Read in gtex file list\n",
    "files = [f for f in listdir(IN_DIR) if isfile(join(IN_DIR, f)) and f.split('.')[-1] == 'parquet']\n"
   ]
  },
  {
   "cell_type": "code",
   "execution_count": 5,
   "metadata": {},
   "outputs": [],
   "source": [
    "# a text file for recording the generated in current directory\n",
    "try:\n",
    "    generated = list(pd.read_csv(\"exon_Parsed.txt\",header = None)[0])\n",
    "except:\n",
    "    generated = []"
   ]
  },
  {
   "cell_type": "code",
   "execution_count": 6,
   "metadata": {},
   "outputs": [],
   "source": [
    "# get the index for GTEx sample\n",
    "f = open(IN_DIR + \"GTEx_Analysis_2017-06-05_v8_STARv2.5.3a_junctions.gct\", \"r\")\n",
    "reader = csv.reader(f, delimiter=\"\\t\")\n",
    "counter = 0\n",
    "for row in reader:\n",
    "    counter +=1\n",
    "    if counter < 3:\n",
    "        continue\n",
    "    if counter == 3:\n",
    "        samples = row\n",
    "        f.close()\n",
    "        break\n",
    "        "
   ]
  },
  {
   "cell_type": "code",
   "execution_count": 8,
   "metadata": {},
   "outputs": [],
   "source": [
    "# read in the exon file\n",
    "pqf = pyarrow.parquet.ParquetFile(IN_DIR + files[0])"
   ]
  },
  {
   "cell_type": "code",
   "execution_count": null,
   "metadata": {},
   "outputs": [],
   "source": [
    "# tissue specific parsing\n",
    "\n",
    "for currTis in tisTypeList:\n",
    "    if currTis in generated:\n",
    "        continue\n",
    "   \n",
    "    \n",
    "    OUT_DIR = OUT_PRE + currTis.replace(\" \",\"\")+\"/\"\n",
    "    \n",
    "    # get the index of samples of the current tissue\n",
    "    idxList = []\n",
    "    for i in range(len(infos)):\n",
    "        if ( tisList[i]== currTis ):\n",
    "            idxList.append(i)\n",
    "    currInfo = infos.iloc[idxList,:]\n",
    "    currInfo = currInfo.set_index(\"SAMPID\")\n",
    "    IDList = list(currInfo.index)\n",
    "    \n",
    "    toRemove = []\n",
    "    for i in IDList:\n",
    "        if i not in samples:\n",
    "            toRemove.append(i)\n",
    "       \n",
    "    for i in toRemove:\n",
    "        IDList.remove(i)\n",
    "    \n",
    "    IDList = [\"Description\"] + IDList\n",
    "    \n",
    "    \n",
    "    idxCol = pqf.read([\"Name\"])\n",
    "    idxCol = idxCol.to_pandas()\n",
    "    dfList = [idxCol.reset_index()]\n",
    "    \n",
    "    # for samp in IDList:\n",
    "    for samp in IDList:    \n",
    "        sampCol = pqf.read([samp])\n",
    "        sampCol = sampCol.to_pandas()\n",
    "        dfList.append(sampCol)\n",
    "        \n",
    "    parsedDF = pd.concat(dfList,axis  = 1)\n",
    "    \n",
    "    \n",
    "    parsedDF.to_csv(OUT_DIR + files[0][:-8] + \"_Parsed.csv\")\n",
    "        \n",
    "        \n",
    "    res = open(\"exon_Parsed.txt\",\"a\")\n",
    "    res.write(currTis + \"\\n\")\n",
    "    res.close()\n",
    "    "
   ]
  }
 ],
 "metadata": {
  "kernelspec": {
   "display_name": "Python 3",
   "language": "python",
   "name": "python3"
  },
  "language_info": {
   "codemirror_mode": {
    "name": "ipython",
    "version": 3
   },
   "file_extension": ".py",
   "mimetype": "text/x-python",
   "name": "python",
   "nbconvert_exporter": "python",
   "pygments_lexer": "ipython3",
   "version": "3.6.8"
  }
 },
 "nbformat": 4,
 "nbformat_minor": 4
}

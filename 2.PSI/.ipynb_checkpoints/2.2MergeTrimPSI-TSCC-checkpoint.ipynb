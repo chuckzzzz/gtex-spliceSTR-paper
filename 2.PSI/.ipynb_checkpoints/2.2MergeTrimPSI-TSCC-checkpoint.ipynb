{
 "cells": [
  {
   "cell_type": "code",
   "execution_count": 36,
   "metadata": {},
   "outputs": [],
   "source": [
    "import pandas as pd\n",
    "import sys"
   ]
  },
  {
   "cell_type": "code",
   "execution_count": 37,
   "metadata": {},
   "outputs": [],
   "source": [
    "tissue = sys.argv[1]"
   ]
  },
  {
   "cell_type": "code",
   "execution_count": 38,
   "metadata": {},
   "outputs": [],
   "source": [
    "# Merge 22 chr specific PSI data together\n",
    "chrRange = range(1,23)\n",
    "dfList = []\n",
    "for CHR in chrRange:\n",
    "    CHR = str(CHR)\n",
    "    PSI_Path = \"/projects/ps-gymreklab/ydong/data/allTis/\"+tissue + \"/PSI/\"+CHROM + \"_PSI.csv\"\n",
    "#     PSI_Path = \"/gymreklab-tscc/ydong/data/allTis/\"+tissue + \"/PSI/\"+CHR + \"_PSI.csv\"\n",
    "    PSI_df = pd.read_csv(PSI_Path, index_col = 0)\n",
    "    dfList.append(PSI_df)\n",
    "    \n",
    "PSI_total = pd.concat(dfList,axis = 1)"
   ]
  },
  {
   "cell_type": "code",
   "execution_count": 39,
   "metadata": {},
   "outputs": [],
   "source": [
    "# remove genes with PSI == 0 or 100 for > 90% of the samples\n",
    "\n",
    "toRemove = []\n",
    "\n",
    "genes = list(PSI_total.columns)\n",
    "\n",
    "PSI100 = PSI_total == 100\n",
    "PSI0 = PSI_total == 0\n",
    "\n",
    "outNum = list(PSI100.sum() + PSI0.sum())\n",
    "for i in range(len(outNum)):\n",
    "    if outNum[i] / float(len(PSI_df)) > 0.9:\n",
    "        toRemove.append(genes[i])\n",
    "        \n",
    "        \n",
    "PSI_total = PSI_total.drop(toRemove,axis = 1)\n",
    "\n",
    "# Store the data\n",
    "\n",
    "PSI_total.to_csv(\"/projects/ps-gymreklab/ydong/data/allTis/\"+tissue + \"/PSI/trimmed_PSI.csv\")\n",
    "# PSI_total.to_csv(\"/gymreklab-tscc/ydong/data/allTis/\"+tissue + \"/PSI/trimmed_PSI.csv\")"
   ]
  }
 ],
 "metadata": {
  "kernelspec": {
   "display_name": "Python 3",
   "language": "python",
   "name": "python3"
  },
  "language_info": {
   "codemirror_mode": {
    "name": "ipython",
    "version": 3
   },
   "file_extension": ".py",
   "mimetype": "text/x-python",
   "name": "python",
   "nbconvert_exporter": "python",
   "pygments_lexer": "ipython3",
   "version": "3.6.8"
  }
 },
 "nbformat": 4,
 "nbformat_minor": 4
}

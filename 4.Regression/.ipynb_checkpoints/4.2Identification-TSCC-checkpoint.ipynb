{
 "cells": [
  {
   "cell_type": "code",
   "execution_count": 3,
   "metadata": {},
   "outputs": [],
   "source": [
    "import os\n",
    "import sys\n",
    "import pandas as pd\n",
    "import statsmodels.stats.multitest\n",
    "import sys"
   ]
  },
  {
   "cell_type": "code",
   "execution_count": null,
   "metadata": {},
   "outputs": [],
   "source": [
    "# read in the result files, skip those tissues with no peer factor generated\n",
    "tisList = os.listdir(\"/projects/ps-gymreklab/ydong/data/allTis/\")\n",
    "peerTis = []\n",
    "count = 0\n",
    "for currTis in tisList:\n",
    "    \n",
    "    for CHR in range(1,23):\n",
    "        resPath = \"/projects/ps-gymreklab/ydong/data/allTis/\" +currTis+\"/result/chr\" + str(CHR) + \"Res.csv\"\n",
    "        \n",
    "        if not os.path.exists(resPath):\n",
    "            count +=1\n",
    "#             print(currTis + \": \"+str(CHR))\n",
    "            peerTis.append(currTis)\n",
    "peerTis = list(set(peerTis))  "
   ]
  },
  {
   "cell_type": "code",
   "execution_count": null,
   "metadata": {},
   "outputs": [],
   "source": [
    "currTis = sys.argv[1]"
   ]
  },
  {
   "cell_type": "code",
   "execution_count": null,
   "metadata": {},
   "outputs": [],
   "source": [
    "if currTis not in peerTis:\n",
    "    fdr_df = pd.DataFrame(columns = [\"chrom\", \"gene\",\"str.id\", \"str.start\", \"n.miss\", \"slope\", \"slope_p\", \"error\",\"error_p\",  \"pVal\",\"pVal_p\",\"start.dist\",\"stop.dist\"])\n",
    "    chr_df = pd.DataFrame(columns = [\"chrom\", \"gene\",\"str.id\", \"str.start\", \"n.miss\", \"slope\", \"slope_p\", \"error\",\"error_p\",  \"pVal\",\"pVal_p\",\"start.dist\",\"stop.dist\"])\n",
    "    for CHR in range(1,23):\n",
    "        resPath = \"/projects/ps-gymreklab/ydong/data/allTis/\" +currTis+\"/result/chr\" + str(CHR) + \"Res.csv\"\n",
    "        chr_df = chr_df.append(pd.read_csv(resPath,index_col= 0).dropna())\n",
    "        \n",
    "    chrCol = list(chr_df.columns)\n",
    "    chrCol.append(\"newP\")\n",
    "\n",
    "\n",
    "    # bonferroni correction for each exon, following by fdr correction on all exon-STR pairs\n",
    "    geneL = list(chr_df[\"gene\"].unique())\n",
    "    spliceDF = pd.DataFrame(columns = chrCol)\n",
    "    for gene in geneL:\n",
    "        currSTR = chr_df[chr_df[\"gene\"] == gene]\n",
    "        rej, corrP,_,_ = statsmodels.stats.multitest.multipletests(list(currSTR[\"pVal\"]), method = \"bonferroni\")\n",
    "        currSTR[\"newP\"] = list(corrP)\n",
    "        bestIdx =currSTR[\"newP\"].idxmin()\n",
    "        spliceDF = spliceDF.append(currSTR.loc[bestIdx,:])\n",
    "    rej, correctedP = statsmodels.stats.multitest.fdrcorrection(spliceDF[\"newP\"])\n",
    "    spliceDF[\"correctedP\"] = correctedP\n",
    "    fdr_df = fdr_df.append(spliceDF[spliceDF[\"correctedP\"]<=0.05])\n",
    "        \n",
    "    fdr_df.to_csv(\"/projects/ps-gymreklab/ydong/data/allTis/\"+currTis + \"/fdrRes.csv\")\n"
   ]
  }
 ],
 "metadata": {
  "kernelspec": {
   "display_name": "Python 3",
   "language": "python",
   "name": "python3"
  },
  "language_info": {
   "codemirror_mode": {
    "name": "ipython",
    "version": 3
   },
   "file_extension": ".py",
   "mimetype": "text/x-python",
   "name": "python",
   "nbconvert_exporter": "python",
   "pygments_lexer": "ipython3",
   "version": "3.6.8"
  }
 },
 "nbformat": 4,
 "nbformat_minor": 4
}

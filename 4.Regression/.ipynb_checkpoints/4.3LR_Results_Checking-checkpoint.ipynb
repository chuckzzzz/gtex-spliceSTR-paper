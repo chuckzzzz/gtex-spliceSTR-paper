{
 "cells": [
  {
   "cell_type": "code",
   "execution_count": 1,
   "metadata": {},
   "outputs": [],
   "source": [
    "import os\n",
    "import sys\n",
    "import pandas as pd\n",
    "import statsmodels.stats.multitest\n",
    "import matplotlib.pyplot as plt\n",
    "from scipy.stats.stats import pearsonr   "
   ]
  },
  {
   "cell_type": "code",
   "execution_count": 2,
   "metadata": {
    "scrolled": true
   },
   "outputs": [
    {
     "name": "stdout",
     "output_type": "stream",
     "text": [
      "Cervix-Endocervix: 1\n",
      "Cervix-Endocervix: 2\n",
      "Cervix-Endocervix: 3\n",
      "Cervix-Endocervix: 4\n",
      "Cervix-Endocervix: 5\n",
      "Cervix-Endocervix: 6\n",
      "Cervix-Endocervix: 7\n",
      "Cervix-Endocervix: 8\n",
      "Cervix-Endocervix: 9\n",
      "Cervix-Endocervix: 10\n",
      "Cervix-Endocervix: 11\n",
      "Cervix-Endocervix: 12\n",
      "Cervix-Endocervix: 13\n",
      "Cervix-Endocervix: 14\n",
      "Cervix-Endocervix: 15\n",
      "Cervix-Endocervix: 16\n",
      "Cervix-Endocervix: 17\n",
      "Cervix-Endocervix: 18\n",
      "Cervix-Endocervix: 19\n",
      "Cervix-Endocervix: 20\n",
      "Cervix-Endocervix: 21\n",
      "Cervix-Endocervix: 22\n",
      "Cervix-Ectocervix: 1\n",
      "Cervix-Ectocervix: 2\n",
      "Cervix-Ectocervix: 3\n",
      "Cervix-Ectocervix: 4\n",
      "Cervix-Ectocervix: 5\n",
      "Cervix-Ectocervix: 6\n",
      "Cervix-Ectocervix: 7\n",
      "Cervix-Ectocervix: 8\n",
      "Cervix-Ectocervix: 9\n",
      "Cervix-Ectocervix: 10\n",
      "Cervix-Ectocervix: 11\n",
      "Cervix-Ectocervix: 12\n",
      "Cervix-Ectocervix: 13\n",
      "Cervix-Ectocervix: 14\n",
      "Cervix-Ectocervix: 15\n",
      "Cervix-Ectocervix: 16\n",
      "Cervix-Ectocervix: 17\n",
      "Cervix-Ectocervix: 18\n",
      "Cervix-Ectocervix: 19\n",
      "Cervix-Ectocervix: 20\n",
      "Cervix-Ectocervix: 21\n",
      "Cervix-Ectocervix: 22\n",
      "Cells-Leukemiacellline_CML: 1\n",
      "Cells-Leukemiacellline_CML: 2\n",
      "Cells-Leukemiacellline_CML: 3\n",
      "Cells-Leukemiacellline_CML: 4\n",
      "Cells-Leukemiacellline_CML: 5\n",
      "Cells-Leukemiacellline_CML: 6\n",
      "Cells-Leukemiacellline_CML: 7\n",
      "Cells-Leukemiacellline_CML: 8\n",
      "Cells-Leukemiacellline_CML: 9\n",
      "Cells-Leukemiacellline_CML: 10\n",
      "Cells-Leukemiacellline_CML: 11\n",
      "Cells-Leukemiacellline_CML: 12\n",
      "Cells-Leukemiacellline_CML: 13\n",
      "Cells-Leukemiacellline_CML: 14\n",
      "Cells-Leukemiacellline_CML: 15\n",
      "Cells-Leukemiacellline_CML: 16\n",
      "Cells-Leukemiacellline_CML: 17\n",
      "Cells-Leukemiacellline_CML: 18\n",
      "Cells-Leukemiacellline_CML: 19\n",
      "Cells-Leukemiacellline_CML: 20\n",
      "Cells-Leukemiacellline_CML: 21\n",
      "Cells-Leukemiacellline_CML: 22\n",
      "Kidney-Medulla: 1\n",
      "Kidney-Medulla: 2\n",
      "Kidney-Medulla: 3\n",
      "Kidney-Medulla: 4\n",
      "Kidney-Medulla: 5\n",
      "Kidney-Medulla: 6\n",
      "Kidney-Medulla: 7\n",
      "Kidney-Medulla: 8\n",
      "Kidney-Medulla: 9\n",
      "Kidney-Medulla: 10\n",
      "Kidney-Medulla: 11\n",
      "Kidney-Medulla: 12\n",
      "Kidney-Medulla: 13\n",
      "Kidney-Medulla: 14\n",
      "Kidney-Medulla: 15\n",
      "Kidney-Medulla: 16\n",
      "Kidney-Medulla: 17\n",
      "Kidney-Medulla: 18\n",
      "Kidney-Medulla: 19\n",
      "Kidney-Medulla: 20\n",
      "Kidney-Medulla: 21\n",
      "Kidney-Medulla: 22\n",
      "FallopianTube: 1\n",
      "FallopianTube: 2\n",
      "FallopianTube: 3\n",
      "FallopianTube: 4\n",
      "FallopianTube: 5\n",
      "FallopianTube: 6\n",
      "FallopianTube: 7\n",
      "FallopianTube: 8\n",
      "FallopianTube: 9\n",
      "FallopianTube: 10\n",
      "FallopianTube: 11\n",
      "FallopianTube: 12\n",
      "FallopianTube: 13\n",
      "FallopianTube: 14\n",
      "FallopianTube: 15\n",
      "FallopianTube: 16\n",
      "FallopianTube: 17\n",
      "FallopianTube: 18\n",
      "FallopianTube: 19\n",
      "FallopianTube: 20\n",
      "FallopianTube: 21\n",
      "FallopianTube: 22\n"
     ]
    }
   ],
   "source": [
    "# check for missing files (dropped by cluster)\n",
    "tisList = os.listdir(\"/gymreklab-tscc/ydong/data/allTis/\")\n",
    "peerTis = []\n",
    "count = 0\n",
    "for currTis in tisList:\n",
    "    \n",
    "    for CHR in range(1,23):\n",
    "        resPath = \"/gymreklab-tscc/ydong/data/allTis/\" +currTis+\"/result/chr\" + str(CHR) + \"Res.csv\"\n",
    "        \n",
    "        if not os.path.exists(resPath):\n",
    "            count +=1\n",
    "            print(currTis + \": \"+str(CHR))\n",
    "            peerTis.append(currTis)\n",
    "peerTis = list(set(peerTis))        "
   ]
  },
  {
   "cell_type": "code",
   "execution_count": 3,
   "metadata": {},
   "outputs": [
    {
     "data": {
      "text/plain": [
       "110"
      ]
     },
     "execution_count": 3,
     "metadata": {},
     "output_type": "execute_result"
    }
   ],
   "source": [
    "count"
   ]
  },
  {
   "cell_type": "code",
   "execution_count": 4,
   "metadata": {
    "scrolled": true
   },
   "outputs": [
    {
     "data": {
      "text/plain": [
       "['Cervix-Ectocervix',\n",
       " 'FallopianTube',\n",
       " 'Cervix-Endocervix',\n",
       " 'Kidney-Medulla',\n",
       " 'Cells-Leukemiacellline_CML']"
      ]
     },
     "execution_count": 4,
     "metadata": {},
     "output_type": "execute_result"
    }
   ],
   "source": [
    "peerTis"
   ]
  },
  {
   "cell_type": "code",
   "execution_count": 5,
   "metadata": {},
   "outputs": [
    {
     "name": "stdout",
     "output_type": "stream",
     "text": [
      "Cervix-Ectocervix\n",
      "FallopianTube\n",
      "Cervix-Endocervix\n",
      "Kidney-Medulla\n",
      "Cells-Leukemiacellline_CML\n"
     ]
    }
   ],
   "source": [
    "for i in peerTis:\n",
    "    print(i)"
   ]
  },
  {
   "cell_type": "code",
   "execution_count": null,
   "metadata": {},
   "outputs": [],
   "source": []
  },
  {
   "cell_type": "code",
   "execution_count": 6,
   "metadata": {},
   "outputs": [],
   "source": [
    "# deal with errors on ids in result files\n",
    "# for currTis in tisList:\n",
    "#     if currTis in peerTis:\n",
    "#         continue\n",
    "#     resPath = \"/gymreklab-tscc/ydong/data/allTis/\" +currTis+\"/fdrRes.csv\"\n",
    "#     newPath = \"/gymreklab-tscc/ydong/data/allTis/\" +currTis+\"/fdrRes_New.csv\"\n",
    "#     fdr_df = pd.read_csv(resPath,index_col = 0)\n",
    "#     fdr_df[\"str.id\"] = fdr_df[\"str.id\"].apply(lambda x: x.split(\"_\")[1])\n",
    "#     fdr_df[\"str.id\"] = fdr_df[\"chrom\"].astype(str) + \"_\" + fdr_df[\"str.id\"]\n",
    "#     fdr_df = fdr_df.reset_index()\n",
    "#     fdr_df.to_csv(newPath)"
   ]
  },
  {
   "cell_type": "code",
   "execution_count": 7,
   "metadata": {
    "scrolled": true
   },
   "outputs": [],
   "source": [
    "fdr_dict = {}\n",
    "for currTis in tisList:\n",
    "    if currTis in peerTis:\n",
    "        continue\n",
    "    resPath = \"/gymreklab-tscc/ydong/data/allTis/\" +currTis+\"/fdrRes_New.csv\"\n",
    "    fdr_df = pd.read_csv(resPath,index_col = 0)\n",
    "    fdr_dict[currTis] = fdr_df"
   ]
  },
  {
   "cell_type": "code",
   "execution_count": 8,
   "metadata": {},
   "outputs": [],
   "source": [
    "fdrTis = list(fdr_dict.keys())"
   ]
  },
  {
   "cell_type": "code",
   "execution_count": 9,
   "metadata": {
    "scrolled": true
   },
   "outputs": [
    {
     "data": {
      "text/plain": [
       "['Brain-Substantianigra',\n",
       " 'Spleen',\n",
       " 'Brain-Cortex',\n",
       " 'Adipose-Visceral_Omentum',\n",
       " 'Brain-Hippocampus',\n",
       " 'Thyroid',\n",
       " 'Kidney-Cortex',\n",
       " 'Artery-Coronary',\n",
       " 'Prostate',\n",
       " 'Artery-Tibial',\n",
       " 'Esophagus-Muscularis',\n",
       " 'Testis',\n",
       " 'Ovary',\n",
       " 'Vagina',\n",
       " 'Esophagus-Mucosa',\n",
       " 'Brain-FrontalCortex_BA9',\n",
       " 'SmallIntestine-TerminalIleum',\n",
       " 'Brain-Spinalcord_cervicalc-1',\n",
       " 'Artery-Aorta',\n",
       " 'Stomach',\n",
       " 'Breast-MammaryTissue',\n",
       " 'Brain-Nucleusaccumbens_basalganglia',\n",
       " 'Muscle-Skeletal',\n",
       " 'Skin-NotSunExposed_Suprapubic',\n",
       " 'Heart-AtrialAppendage',\n",
       " 'Brain-Cerebellum',\n",
       " 'Skin-SunExposed_Lowerleg',\n",
       " 'Heart-LeftVentricle',\n",
       " 'Nerve-Tibial',\n",
       " 'Pancreas',\n",
       " 'Colon-Sigmoid',\n",
       " 'Brain-Putamen_basalganglia',\n",
       " 'Adipose-Subcutaneous',\n",
       " 'Colon-Transverse',\n",
       " 'Brain-Caudate_basalganglia',\n",
       " 'MinorSalivaryGland',\n",
       " 'Brain-CerebellarHemisphere',\n",
       " 'Liver',\n",
       " 'AdrenalGland',\n",
       " 'Brain-Hypothalamus',\n",
       " 'Bladder',\n",
       " 'Cells-Culturedfibroblasts',\n",
       " 'Cells-EBV-transformedlymphocytes',\n",
       " 'Brain-Anteriorcingulatecortex_BA24',\n",
       " 'Uterus',\n",
       " 'Pituitary',\n",
       " 'Esophagus-GastroesophagealJunction',\n",
       " 'WholeBlood',\n",
       " 'Lung',\n",
       " 'Brain-Amygdala']"
      ]
     },
     "execution_count": 9,
     "metadata": {},
     "output_type": "execute_result"
    }
   ],
   "source": [
    "fdrTis"
   ]
  },
  {
   "cell_type": "code",
   "execution_count": 10,
   "metadata": {},
   "outputs": [],
   "source": [
    "strList = []\n",
    "strSet = set()\n",
    "for currTis in tisList:\n",
    "    if currTis in peerTis:\n",
    "        continue\n",
    "    currDF = fdr_dict[currTis]\n",
    "    strList.append(list(currDF[\"str.id\"]))\n",
    "    strSet = strSet | set(currDF[\"str.id\"])"
   ]
  },
  {
   "cell_type": "code",
   "execution_count": 11,
   "metadata": {},
   "outputs": [
    {
     "data": {
      "text/plain": [
       "17914"
      ]
     },
     "execution_count": 11,
     "metadata": {},
     "output_type": "execute_result"
    }
   ],
   "source": [
    "len(strSet)"
   ]
  },
  {
   "cell_type": "code",
   "execution_count": 12,
   "metadata": {},
   "outputs": [],
   "source": [
    "strAppCounts = []\n",
    "for currSTR in strSet:\n",
    "    currCount = 0\n",
    "    for i in strList:\n",
    "        if currSTR in i:\n",
    "            currCount +=1\n",
    "    strAppCounts.append(currCount)"
   ]
  },
  {
   "cell_type": "code",
   "execution_count": 15,
   "metadata": {},
   "outputs": [
    {
     "data": {
      "text/plain": [
       "49"
      ]
     },
     "execution_count": 15,
     "metadata": {},
     "output_type": "execute_result"
    }
   ],
   "source": [
    "len(set(strAppCounts))"
   ]
  },
  {
   "cell_type": "code",
   "execution_count": 18,
   "metadata": {},
   "outputs": [
    {
     "data": {
      "text/plain": [
       "Text(0.5, 0, 'STRs')"
      ]
     },
     "execution_count": 18,
     "metadata": {},
     "output_type": "execute_result"
    },
    {
     "data": {
      "image/png": "[encoded data removed]",
      "text/plain": [
       "<Figure size 432x288 with 1 Axes>"
      ]
     },
     "metadata": {
      "needs_background": "light"
     },
     "output_type": "display_data"
    }
   ],
   "source": [
    "plt.hist(strAppCounts,49)\n",
    "plt.title(\"Counts of STR appearences within tissues\")\n",
    "plt.ylabel(\"Counts\")\n",
    "plt.xlabel(\"STRs\")"
   ]
  },
  {
   "cell_type": "code",
   "execution_count": 30,
   "metadata": {},
   "outputs": [
    {
     "data": {
      "text/plain": [
       "89"
      ]
     },
     "execution_count": 30,
     "metadata": {},
     "output_type": "execute_result"
    }
   ],
   "source": [
    "# count how many of them is larger than 40\n",
    "count40 = 0\n",
    "for i in strAppCounts:\n",
    "    if i > 40:\n",
    "        count40 +=1\n",
    "count40"
   ]
  },
  {
   "cell_type": "code",
   "execution_count": 48,
   "metadata": {},
   "outputs": [
    {
     "name": "stdout",
     "output_type": "stream",
     "text": [
      "Bladder\n"
     ]
    }
   ],
   "source": [
    "fdrCounts = []\n",
    "for i in fdr_dict.keys():\n",
    "    fdrCounts.append(len(fdr_dict[i]))\n",
    "    if len(fdr_dict[i]) == 0:\n",
    "        print(i)"
   ]
  },
  {
   "cell_type": "code",
   "execution_count": 11,
   "metadata": {
    "scrolled": true
   },
   "outputs": [
    {
     "data": {
      "text/plain": [
       "[256,\n",
       " 1056,\n",
       " 851,\n",
       " 2031,\n",
       " 523,\n",
       " 3107,\n",
       " 38,\n",
       " 951,\n",
       " 902,\n",
       " 2586,\n",
       " 2172,\n",
       " 3148,\n",
       " 783,\n",
       " 506,\n",
       " 2097,\n",
       " 833,\n",
       " 697,\n",
       " 437,\n",
       " 1901,\n",
       " 1186,\n",
       " 1840,\n",
       " 834,\n",
       " 2103,\n",
       " 2160,\n",
       " 1412,\n",
       " 1206,\n",
       " 2623,\n",
       " 905,\n",
       " 2819,\n",
       " 941,\n",
       " 1507,\n",
       " 581,\n",
       " 2952,\n",
       " 1573,\n",
       " 840,\n",
       " 338,\n",
       " 1037,\n",
       " 533,\n",
       " 1093,\n",
       " 673,\n",
       " 0,\n",
       " 3135,\n",
       " 1085,\n",
       " 519,\n",
       " 547,\n",
       " 1230,\n",
       " 1446,\n",
       " 1375,\n",
       " 2520,\n",
       " 326]"
      ]
     },
     "execution_count": 11,
     "metadata": {},
     "output_type": "execute_result"
    }
   ],
   "source": [
    "fdrCounts"
   ]
  },
  {
   "cell_type": "code",
   "execution_count": 12,
   "metadata": {},
   "outputs": [
    {
     "data": {
      "text/plain": [
       "Text(0, 0.5, 'Counts')"
      ]
     },
     "execution_count": 12,
     "metadata": {},
     "output_type": "execute_result"
    },
    {
     "data": {
      "image/png": "[encoded data removed]",
      "text/plain": [
       "<Figure size 432x288 with 1 Axes>"
      ]
     },
     "metadata": {
      "needs_background": "light"
     },
     "output_type": "display_data"
    }
   ],
   "source": [
    "plt.violinplot(fdrCounts)\n",
    "plt.boxplot(fdrCounts)\n",
    "plt.title(\"Counts of exon-STR pairs within each tissue\")\n",
    "plt.ylabel(\"Counts\")"
   ]
  },
  {
   "cell_type": "code",
   "execution_count": 13,
   "metadata": {},
   "outputs": [],
   "source": [
    "Tis500 = []\n",
    "Tis300 = []\n",
    "Tis50 = []\n",
    "for i in range(len(fdrTis)):\n",
    "    if fdrCounts[i]<= 500:\n",
    "        Tis500.append(fdrTis[i])\n",
    "    if fdrCounts[i]<= 300:\n",
    "        Tis300.append(fdrTis[i])\n",
    "    if fdrCounts[i]<= 50:\n",
    "        Tis50.append(fdrTis[i])"
   ]
  },
  {
   "cell_type": "code",
   "execution_count": 14,
   "metadata": {
    "scrolled": true
   },
   "outputs": [
    {
     "name": "stdout",
     "output_type": "stream",
     "text": [
      "Brain-Substantianigra\n",
      "Kidney-Cortex\n",
      "Brain-Spinalcord_cervicalc-1\n",
      "MinorSalivaryGland\n",
      "Bladder\n",
      "Brain-Amygdala\n"
     ]
    }
   ],
   "source": [
    "for i in Tis500:\n",
    "    print(i)"
   ]
  },
  {
   "cell_type": "code",
   "execution_count": 15,
   "metadata": {},
   "outputs": [
    {
     "name": "stdout",
     "output_type": "stream",
     "text": [
      "Brain-Substantianigra\n",
      "Kidney-Cortex\n",
      "Bladder\n"
     ]
    }
   ],
   "source": [
    "for i in Tis300:\n",
    "    print(i)"
   ]
  },
  {
   "cell_type": "code",
   "execution_count": 16,
   "metadata": {},
   "outputs": [
    {
     "name": "stdout",
     "output_type": "stream",
     "text": [
      "Kidney-Cortex\n",
      "Bladder\n"
     ]
    }
   ],
   "source": [
    "for i in Tis50:\n",
    "    print(i)"
   ]
  },
  {
   "cell_type": "code",
   "execution_count": 17,
   "metadata": {},
   "outputs": [],
   "source": [
    "overlapSTR500 = []\n",
    "start = True\n",
    "for i in range(len(fdrTis)):\n",
    "    if fdrTis[i] in Tis500:\n",
    "        continue\n",
    "    if start == True:\n",
    "        overlapSTR500 = list(fdr_dict[fdrTis[i]][\"str.id\"].unique())\n",
    "        start = False\n",
    "    else:\n",
    "        overlapSTR500 = list(set( overlapSTR500)&set(fdr_dict[fdrTis[i]][\"str.id\"].unique()))"
   ]
  },
  {
   "cell_type": "code",
   "execution_count": 18,
   "metadata": {},
   "outputs": [],
   "source": [
    "overlapSTR300 = []\n",
    "start = True\n",
    "for i in range(len(fdrTis)):\n",
    "    if fdrTis[i] in Tis300:\n",
    "        continue\n",
    "    if start == True:\n",
    "        overlapSTR300 = list(fdr_dict[fdrTis[i]][\"str.id\"].unique())\n",
    "        start = False\n",
    "    else:\n",
    "        overlapSTR300 = list(set( overlapSTR300)&set(fdr_dict[fdrTis[i]][\"str.id\"].unique()))"
   ]
  },
  {
   "cell_type": "code",
   "execution_count": 19,
   "metadata": {},
   "outputs": [],
   "source": [
    "overlapSTR50 = []\n",
    "start = True\n",
    "for i in range(len(fdrTis)):\n",
    "    if fdrTis[i] in Tis50:\n",
    "        continue\n",
    "    if start == True:\n",
    "        overlapSTR50 = list(fdr_dict[fdrTis[i]][\"str.id\"].unique())\n",
    "        start = False\n",
    "    else:\n",
    "        overlapSTR50 = list(set( overlapSTR50)&set(fdr_dict[fdrTis[i]][\"str.id\"].unique()))"
   ]
  },
  {
   "cell_type": "code",
   "execution_count": 58,
   "metadata": {
    "scrolled": true
   },
   "outputs": [],
   "source": [
    "overlapSTR0 = []\n",
    "start = True\n",
    "for i in range(len(fdrTis)):\n",
    "    if fdrTis[i] == \"Bladder\":\n",
    "        continue\n",
    "    if start == True:\n",
    "        overlapSTR0 = list(fdr_dict[fdrTis[i]][\"str.id\"].unique())\n",
    "        start = False\n",
    "    else:\n",
    "        overlapSTR0 = list(set( overlapSTR0)&set(fdr_dict[fdrTis[i]][\"str.id\"].unique()))"
   ]
  },
  {
   "cell_type": "code",
   "execution_count": 47,
   "metadata": {
    "scrolled": true
   },
   "outputs": [
    {
     "data": {
      "text/plain": [
       "['Brain-Substantianigra',\n",
       " 'Spleen',\n",
       " 'Brain-Cortex',\n",
       " 'Adipose-Visceral_Omentum',\n",
       " 'Brain-Hippocampus',\n",
       " 'Thyroid',\n",
       " 'Kidney-Cortex',\n",
       " 'Artery-Coronary',\n",
       " 'Prostate',\n",
       " 'Artery-Tibial',\n",
       " 'Esophagus-Muscularis',\n",
       " 'Testis',\n",
       " 'Ovary',\n",
       " 'Vagina',\n",
       " 'Esophagus-Mucosa',\n",
       " 'Brain-FrontalCortex_BA9',\n",
       " 'SmallIntestine-TerminalIleum',\n",
       " 'Brain-Spinalcord_cervicalc-1',\n",
       " 'Artery-Aorta',\n",
       " 'Stomach',\n",
       " 'Breast-MammaryTissue',\n",
       " 'Brain-Nucleusaccumbens_basalganglia',\n",
       " 'Muscle-Skeletal',\n",
       " 'Skin-NotSunExposed_Suprapubic',\n",
       " 'Heart-AtrialAppendage',\n",
       " 'Brain-Cerebellum',\n",
       " 'Skin-SunExposed_Lowerleg',\n",
       " 'Heart-LeftVentricle',\n",
       " 'Nerve-Tibial',\n",
       " 'Pancreas',\n",
       " 'Colon-Sigmoid',\n",
       " 'Brain-Putamen_basalganglia',\n",
       " 'Adipose-Subcutaneous',\n",
       " 'Colon-Transverse',\n",
       " 'Brain-Caudate_basalganglia',\n",
       " 'MinorSalivaryGland',\n",
       " 'Brain-CerebellarHemisphere',\n",
       " 'Liver',\n",
       " 'AdrenalGland',\n",
       " 'Brain-Hypothalamus',\n",
       " 'Bladder',\n",
       " 'Cells-Culturedfibroblasts',\n",
       " 'Cells-EBV-transformedlymphocytes',\n",
       " 'Brain-Anteriorcingulatecortex_BA24',\n",
       " 'Uterus',\n",
       " 'Pituitary',\n",
       " 'Esophagus-GastroesophagealJunction',\n",
       " 'WholeBlood',\n",
       " 'Lung',\n",
       " 'Brain-Amygdala']"
      ]
     },
     "execution_count": 47,
     "metadata": {},
     "output_type": "execute_result"
    }
   ],
   "source": [
    "fdrTis"
   ]
  },
  {
   "cell_type": "code",
   "execution_count": 20,
   "metadata": {},
   "outputs": [
    {
     "data": {
      "text/plain": [
       "23"
      ]
     },
     "execution_count": 20,
     "metadata": {},
     "output_type": "execute_result"
    }
   ],
   "source": [
    "len(overlapSTR500)"
   ]
  },
  {
   "cell_type": "code",
   "execution_count": 21,
   "metadata": {},
   "outputs": [
    {
     "data": {
      "text/plain": [
       "16"
      ]
     },
     "execution_count": 21,
     "metadata": {},
     "output_type": "execute_result"
    }
   ],
   "source": [
    "len(overlapSTR300)"
   ]
  },
  {
   "cell_type": "code",
   "execution_count": 22,
   "metadata": {},
   "outputs": [
    {
     "data": {
      "text/plain": [
       "15"
      ]
     },
     "execution_count": 22,
     "metadata": {},
     "output_type": "execute_result"
    }
   ],
   "source": [
    "len(overlapSTR50)"
   ]
  },
  {
   "cell_type": "code",
   "execution_count": 59,
   "metadata": {},
   "outputs": [
    {
     "data": {
      "text/plain": [
       "['19_45770205', '7_100356164', '12_103951635', '11_303493', '16_1960226']"
      ]
     },
     "execution_count": 59,
     "metadata": {},
     "output_type": "execute_result"
    }
   ],
   "source": [
    "overlapSTR0"
   ]
  },
  {
   "cell_type": "code",
   "execution_count": 23,
   "metadata": {},
   "outputs": [
    {
     "name": "stdout",
     "output_type": "stream",
     "text": [
      "19_45770205\n",
      "7_100356164\n",
      "15_76301705\n",
      "12_103951635\n",
      "8_11856856\n",
      "11_303493\n",
      "7_30569341\n",
      "16_89532773\n",
      "2_101280177\n",
      "16_1960226\n",
      "14_22573182\n",
      "22_23695439\n",
      "17_7629376\n",
      "8_108240980\n",
      "2_131483718\n"
     ]
    }
   ],
   "source": [
    "for i in overlapSTR50:\n",
    "    print(i)"
   ]
  },
  {
   "cell_type": "code",
   "execution_count": 24,
   "metadata": {},
   "outputs": [
    {
     "name": "stderr",
     "output_type": "stream",
     "text": [
      "/usr/local/lib64/python3.6/site-packages/pandas/core/frame.py:7138: FutureWarning: Sorting because non-concatenation axis is not aligned. A future version\n",
      "of pandas will change to not sort by default.\n",
      "\n",
      "To accept the future behavior, pass 'sort=False'.\n",
      "\n",
      "To retain the current behavior and silence the warning, pass 'sort=True'.\n",
      "\n",
      "  sort=sort,\n"
     ]
    }
   ],
   "source": [
    "# get genes\n",
    "spliceSTR_Exon = pd.DataFrame(columns = list(fdr_dict[\"Lung\"].columns)+[\"tissue\"])\n",
    "for i in range(len(fdrTis)):\n",
    "    if fdrTis[i] in Tis50:\n",
    "        continue\n",
    "    currTis = fdr_dict[fdrTis[i]]\n",
    "    currIdx = []\n",
    "    for j in currTis.index:\n",
    "        if currTis[\"str.id\"][j] in overlapSTR50:\n",
    "            currIdx.append(j)\n",
    "    currSTR = currTis.loc[currIdx,:].drop([\"index\"],axis = 1)\n",
    "    currSTR[\"tissue\"] = fdrTis[i]\n",
    "    spliceSTR_Exon = spliceSTR_Exon.append(currSTR)\n",
    "    "
   ]
  },
  {
   "cell_type": "code",
   "execution_count": 25,
   "metadata": {},
   "outputs": [],
   "source": [
    "spliceSTR_Exon = spliceSTR_Exon.drop([\"index\"],axis = 1)"
   ]
  },
  {
   "cell_type": "code",
   "execution_count": 26,
   "metadata": {
    "scrolled": false
   },
   "outputs": [],
   "source": [
    "spliceSTR_Exon.to_csv(\"/storage/ydong/data/spliceSTR/pairs.csv\")"
   ]
  },
  {
   "cell_type": "code",
   "execution_count": 27,
   "metadata": {},
   "outputs": [],
   "source": [
    "# getting the closest distance from exon to STR starting point\n",
    "\n",
    "startD = list(spliceSTR_Exon[\"start.dist\"])\n",
    "stopD = list(spliceSTR_Exon[\"stop.dist\"])\n",
    "\n",
    "## startD always > stopD\n",
    "\n",
    "closestD = []\n",
    "farthestD = []\n",
    "for i in range(len(startD)):\n",
    "    currB = startD[i]\n",
    "    currE = stopD[i]\n",
    "    if currE > 0:\n",
    "        closestD.append(currE)\n",
    "        farthestD.append(currB)\n",
    "    elif currB < 0:\n",
    "        closestD.append(currB)\n",
    "        farthestD.append(currE)\n",
    "    else:\n",
    "        if abs(currE) > abs(currB):\n",
    "            closestD.append(currB)\n",
    "            farthestD.append(currE) \n",
    "        else:\n",
    "            closestD.append(currE)\n",
    "            farthestD.append(currB)\n",
    "    \n",
    "    \n",
    "    \n",
    "    \n",
    "spliceSTR_Exon[\"close\"] = closestD\n",
    "spliceSTR_Exon[\"far\"] = farthestD\n"
   ]
  },
  {
   "cell_type": "code",
   "execution_count": 28,
   "metadata": {},
   "outputs": [],
   "source": [
    "for i in range(len(startD)):\n",
    "    if (startD[i] - stopD[i]) < 0 :\n",
    "        print(\"fdsafasdafs\")"
   ]
  },
  {
   "cell_type": "code",
   "execution_count": 29,
   "metadata": {},
   "outputs": [
    {
     "data": {
      "text/html": [
       "<div>\n",
       "<style scoped>\n",
       "    .dataframe tbody tr th:only-of-type {\n",
       "        vertical-align: middle;\n",
       "    }\n",
       "\n",
       "    .dataframe tbody tr th {\n",
       "        vertical-align: top;\n",
       "    }\n",
       "\n",
       "    .dataframe thead th {\n",
       "        text-align: right;\n",
       "    }\n",
       "</style>\n",
       "<table border=\"1\" class=\"dataframe\">\n",
       "  <thead>\n",
       "    <tr style=\"text-align: right;\">\n",
       "      <th></th>\n",
       "      <th>chrom</th>\n",
       "      <th>correctedP</th>\n",
       "      <th>error</th>\n",
       "      <th>error_p</th>\n",
       "      <th>gene</th>\n",
       "      <th>n.miss</th>\n",
       "      <th>newP</th>\n",
       "      <th>pVal</th>\n",
       "      <th>pVal_p</th>\n",
       "      <th>slope</th>\n",
       "      <th>slope_p</th>\n",
       "      <th>start.dist</th>\n",
       "      <th>stop.dist</th>\n",
       "      <th>str.id</th>\n",
       "      <th>str.start</th>\n",
       "      <th>tissue</th>\n",
       "      <th>close</th>\n",
       "      <th>far</th>\n",
       "    </tr>\n",
       "  </thead>\n",
       "  <tbody>\n",
       "    <tr>\n",
       "      <th>34</th>\n",
       "      <td>2</td>\n",
       "      <td>3.271074e-04</td>\n",
       "      <td>0.089861</td>\n",
       "      <td>0.110451</td>\n",
       "      <td>ENSG00000163162.8_9</td>\n",
       "      <td>5</td>\n",
       "      <td>8.860022e-07</td>\n",
       "      <td>1.476670e-07</td>\n",
       "      <td>0.109641</td>\n",
       "      <td>0.528620</td>\n",
       "      <td>0.179116</td>\n",
       "      <td>7335.0</td>\n",
       "      <td>7242.0</td>\n",
       "      <td>2_101280177</td>\n",
       "      <td>101280177</td>\n",
       "      <td>Brain-Substantianigra</td>\n",
       "      <td>7242.0</td>\n",
       "      <td>7335.0</td>\n",
       "    </tr>\n",
       "    <tr>\n",
       "      <th>36</th>\n",
       "      <td>2</td>\n",
       "      <td>1.085843e-04</td>\n",
       "      <td>0.099336</td>\n",
       "      <td>0.123381</td>\n",
       "      <td>ENSG00000173272.15_5</td>\n",
       "      <td>3</td>\n",
       "      <td>2.177186e-07</td>\n",
       "      <td>1.814322e-08</td>\n",
       "      <td>0.302903</td>\n",
       "      <td>0.633860</td>\n",
       "      <td>-0.128081</td>\n",
       "      <td>-240.0</td>\n",
       "      <td>-500.0</td>\n",
       "      <td>2_131483718</td>\n",
       "      <td>131483718</td>\n",
       "      <td>Brain-Substantianigra</td>\n",
       "      <td>-240.0</td>\n",
       "      <td>-500.0</td>\n",
       "    </tr>\n",
       "    <tr>\n",
       "      <th>88</th>\n",
       "      <td>7</td>\n",
       "      <td>1.799344e-03</td>\n",
       "      <td>0.102323</td>\n",
       "      <td>0.132731</td>\n",
       "      <td>ENSG00000196295.11_9</td>\n",
       "      <td>16</td>\n",
       "      <td>6.013003e-06</td>\n",
       "      <td>2.004334e-06</td>\n",
       "      <td>0.363340</td>\n",
       "      <td>-0.543731</td>\n",
       "      <td>-0.121665</td>\n",
       "      <td>-3659.0</td>\n",
       "      <td>-4441.0</td>\n",
       "      <td>7_30569341</td>\n",
       "      <td>30569341</td>\n",
       "      <td>Brain-Substantianigra</td>\n",
       "      <td>-3659.0</td>\n",
       "      <td>-4441.0</td>\n",
       "    </tr>\n",
       "    <tr>\n",
       "      <th>89</th>\n",
       "      <td>7</td>\n",
       "      <td>1.519177e-02</td>\n",
       "      <td>0.099964</td>\n",
       "      <td>0.129213</td>\n",
       "      <td>ENSG00000196295.11_12</td>\n",
       "      <td>16</td>\n",
       "      <td>8.657190e-05</td>\n",
       "      <td>1.442865e-05</td>\n",
       "      <td>0.235265</td>\n",
       "      <td>0.475900</td>\n",
       "      <td>-0.155062</td>\n",
       "      <td>5197.0</td>\n",
       "      <td>4543.0</td>\n",
       "      <td>7_30569341</td>\n",
       "      <td>30569341</td>\n",
       "      <td>Brain-Substantianigra</td>\n",
       "      <td>4543.0</td>\n",
       "      <td>5197.0</td>\n",
       "    </tr>\n",
       "    <tr>\n",
       "      <th>99</th>\n",
       "      <td>7</td>\n",
       "      <td>4.770691e-05</td>\n",
       "      <td>0.111839</td>\n",
       "      <td>0.160380</td>\n",
       "      <td>ENSG00000121716.20_7</td>\n",
       "      <td>26</td>\n",
       "      <td>7.887382e-08</td>\n",
       "      <td>1.126769e-08</td>\n",
       "      <td>0.991975</td>\n",
       "      <td>0.779582</td>\n",
       "      <td>-0.001622</td>\n",
       "      <td>-1216.0</td>\n",
       "      <td>-1371.0</td>\n",
       "      <td>7_100356164</td>\n",
       "      <td>100356164</td>\n",
       "      <td>Brain-Substantianigra</td>\n",
       "      <td>-1216.0</td>\n",
       "      <td>-1371.0</td>\n",
       "    </tr>\n",
       "    <tr>\n",
       "      <th>...</th>\n",
       "      <td>...</td>\n",
       "      <td>...</td>\n",
       "      <td>...</td>\n",
       "      <td>...</td>\n",
       "      <td>...</td>\n",
       "      <td>...</td>\n",
       "      <td>...</td>\n",
       "      <td>...</td>\n",
       "      <td>...</td>\n",
       "      <td>...</td>\n",
       "      <td>...</td>\n",
       "      <td>...</td>\n",
       "      <td>...</td>\n",
       "      <td>...</td>\n",
       "      <td>...</td>\n",
       "      <td>...</td>\n",
       "      <td>...</td>\n",
       "      <td>...</td>\n",
       "    </tr>\n",
       "    <tr>\n",
       "      <th>236</th>\n",
       "      <td>16</td>\n",
       "      <td>8.038010e-12</td>\n",
       "      <td>0.070108</td>\n",
       "      <td>0.137969</td>\n",
       "      <td>ENSG00000140988.15_2</td>\n",
       "      <td>28</td>\n",
       "      <td>2.310271e-15</td>\n",
       "      <td>3.850451e-16</td>\n",
       "      <td>0.271882</td>\n",
       "      <td>-0.806310</td>\n",
       "      <td>0.153157</td>\n",
       "      <td>-4050.0</td>\n",
       "      <td>-4141.0</td>\n",
       "      <td>16_1960226</td>\n",
       "      <td>1960226</td>\n",
       "      <td>Brain-Amygdala</td>\n",
       "      <td>-4050.0</td>\n",
       "      <td>-4141.0</td>\n",
       "    </tr>\n",
       "    <tr>\n",
       "      <th>249</th>\n",
       "      <td>16</td>\n",
       "      <td>1.488291e-03</td>\n",
       "      <td>0.070665</td>\n",
       "      <td>0.127243</td>\n",
       "      <td>ENSG00000197912.14_15</td>\n",
       "      <td>20</td>\n",
       "      <td>5.793701e-06</td>\n",
       "      <td>6.437445e-07</td>\n",
       "      <td>0.170609</td>\n",
       "      <td>0.391843</td>\n",
       "      <td>0.176401</td>\n",
       "      <td>-3992.0</td>\n",
       "      <td>-4948.0</td>\n",
       "      <td>16_89532773</td>\n",
       "      <td>89532773</td>\n",
       "      <td>Brain-Amygdala</td>\n",
       "      <td>-3992.0</td>\n",
       "      <td>-4948.0</td>\n",
       "    </tr>\n",
       "    <tr>\n",
       "      <th>252</th>\n",
       "      <td>17</td>\n",
       "      <td>1.057046e-03</td>\n",
       "      <td>0.086997</td>\n",
       "      <td>0.112670</td>\n",
       "      <td>ENSG00000141504.11_4</td>\n",
       "      <td>4</td>\n",
       "      <td>3.797679e-06</td>\n",
       "      <td>2.531786e-07</td>\n",
       "      <td>0.734868</td>\n",
       "      <td>-0.491362</td>\n",
       "      <td>-0.038293</td>\n",
       "      <td>2433.0</td>\n",
       "      <td>2332.0</td>\n",
       "      <td>17_7629376</td>\n",
       "      <td>7629376</td>\n",
       "      <td>Brain-Amygdala</td>\n",
       "      <td>2332.0</td>\n",
       "      <td>2433.0</td>\n",
       "    </tr>\n",
       "    <tr>\n",
       "      <th>295</th>\n",
       "      <td>19</td>\n",
       "      <td>1.991154e-12</td>\n",
       "      <td>0.073562</td>\n",
       "      <td>0.108726</td>\n",
       "      <td>ENSG00000104936.17_16</td>\n",
       "      <td>12</td>\n",
       "      <td>5.007572e-16</td>\n",
       "      <td>8.345953e-17</td>\n",
       "      <td>0.260300</td>\n",
       "      <td>0.804776</td>\n",
       "      <td>-0.123390</td>\n",
       "      <td>488.0</td>\n",
       "      <td>-435.0</td>\n",
       "      <td>19_45770205</td>\n",
       "      <td>45770205</td>\n",
       "      <td>Brain-Amygdala</td>\n",
       "      <td>-435.0</td>\n",
       "      <td>488.0</td>\n",
       "    </tr>\n",
       "    <tr>\n",
       "      <th>321</th>\n",
       "      <td>22</td>\n",
       "      <td>1.447160e-12</td>\n",
       "      <td>0.071107</td>\n",
       "      <td>0.108850</td>\n",
       "      <td>ENSG00000272578.5_14</td>\n",
       "      <td>5</td>\n",
       "      <td>3.119551e-16</td>\n",
       "      <td>1.039850e-16</td>\n",
       "      <td>0.701443</td>\n",
       "      <td>0.753889</td>\n",
       "      <td>-0.041886</td>\n",
       "      <td>8649.0</td>\n",
       "      <td>8444.0</td>\n",
       "      <td>22_23695439</td>\n",
       "      <td>23695439</td>\n",
       "      <td>Brain-Amygdala</td>\n",
       "      <td>8444.0</td>\n",
       "      <td>8649.0</td>\n",
       "    </tr>\n",
       "  </tbody>\n",
       "</table>\n",
       "<p>1330 rows × 18 columns</p>\n",
       "</div>"
      ],
      "text/plain": [
       "    chrom    correctedP     error   error_p                   gene n.miss  \\\n",
       "34      2  3.271074e-04  0.089861  0.110451    ENSG00000163162.8_9      5   \n",
       "36      2  1.085843e-04  0.099336  0.123381   ENSG00000173272.15_5      3   \n",
       "88      7  1.799344e-03  0.102323  0.132731   ENSG00000196295.11_9     16   \n",
       "89      7  1.519177e-02  0.099964  0.129213  ENSG00000196295.11_12     16   \n",
       "99      7  4.770691e-05  0.111839  0.160380   ENSG00000121716.20_7     26   \n",
       "..    ...           ...       ...       ...                    ...    ...   \n",
       "236    16  8.038010e-12  0.070108  0.137969   ENSG00000140988.15_2     28   \n",
       "249    16  1.488291e-03  0.070665  0.127243  ENSG00000197912.14_15     20   \n",
       "252    17  1.057046e-03  0.086997  0.112670   ENSG00000141504.11_4      4   \n",
       "295    19  1.991154e-12  0.073562  0.108726  ENSG00000104936.17_16     12   \n",
       "321    22  1.447160e-12  0.071107  0.108850   ENSG00000272578.5_14      5   \n",
       "\n",
       "             newP          pVal    pVal_p     slope   slope_p  start.dist  \\\n",
       "34   8.860022e-07  1.476670e-07  0.109641  0.528620  0.179116      7335.0   \n",
       "36   2.177186e-07  1.814322e-08  0.302903  0.633860 -0.128081      -240.0   \n",
       "88   6.013003e-06  2.004334e-06  0.363340 -0.543731 -0.121665     -3659.0   \n",
       "89   8.657190e-05  1.442865e-05  0.235265  0.475900 -0.155062      5197.0   \n",
       "99   7.887382e-08  1.126769e-08  0.991975  0.779582 -0.001622     -1216.0   \n",
       "..            ...           ...       ...       ...       ...         ...   \n",
       "236  2.310271e-15  3.850451e-16  0.271882 -0.806310  0.153157     -4050.0   \n",
       "249  5.793701e-06  6.437445e-07  0.170609  0.391843  0.176401     -3992.0   \n",
       "252  3.797679e-06  2.531786e-07  0.734868 -0.491362 -0.038293      2433.0   \n",
       "295  5.007572e-16  8.345953e-17  0.260300  0.804776 -0.123390       488.0   \n",
       "321  3.119551e-16  1.039850e-16  0.701443  0.753889 -0.041886      8649.0   \n",
       "\n",
       "     stop.dist       str.id  str.start                 tissue   close     far  \n",
       "34      7242.0  2_101280177  101280177  Brain-Substantianigra  7242.0  7335.0  \n",
       "36      -500.0  2_131483718  131483718  Brain-Substantianigra  -240.0  -500.0  \n",
       "88     -4441.0   7_30569341   30569341  Brain-Substantianigra -3659.0 -4441.0  \n",
       "89      4543.0   7_30569341   30569341  Brain-Substantianigra  4543.0  5197.0  \n",
       "99     -1371.0  7_100356164  100356164  Brain-Substantianigra -1216.0 -1371.0  \n",
       "..         ...          ...        ...                    ...     ...     ...  \n",
       "236    -4141.0   16_1960226    1960226         Brain-Amygdala -4050.0 -4141.0  \n",
       "249    -4948.0  16_89532773   89532773         Brain-Amygdala -3992.0 -4948.0  \n",
       "252     2332.0   17_7629376    7629376         Brain-Amygdala  2332.0  2433.0  \n",
       "295     -435.0  19_45770205   45770205         Brain-Amygdala  -435.0   488.0  \n",
       "321     8444.0  22_23695439   23695439         Brain-Amygdala  8444.0  8649.0  \n",
       "\n",
       "[1330 rows x 18 columns]"
      ]
     },
     "execution_count": 29,
     "metadata": {},
     "output_type": "execute_result"
    }
   ],
   "source": [
    "spliceSTR_Exon"
   ]
  }
 ],
 "metadata": {
  "kernelspec": {
   "display_name": "Python 3",
   "language": "python",
   "name": "python3"
  },
  "language_info": {
   "codemirror_mode": {
    "name": "ipython",
    "version": 3
   },
   "file_extension": ".py",
   "mimetype": "text/x-python",
   "name": "python",
   "nbconvert_exporter": "python",
   "pygments_lexer": "ipython3",
   "version": "3.6.8"
  }
 },
 "nbformat": 4,
 "nbformat_minor": 4
}
